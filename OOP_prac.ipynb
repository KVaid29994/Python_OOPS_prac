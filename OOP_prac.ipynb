{
 "cells": [
  {
   "cell_type": "markdown",
   "id": "af066412-f06f-440e-a9f5-1c2ed1cb8fde",
   "metadata": {},
   "source": [
    "### 1. What are the four pillars of OOP in Python?\n",
    "\n",
    "- The 4 Pillars of OOP in python are\n",
    "    - Encapsulation - hiding internal data using classes and access modifiers\n",
    "    - Polymorphism  - Same method name behaving differently based on context (overriding or overloading)\n",
    "    - Inheritance - Parent and chil logic,methods and attributes are inherited by the child class. Driving a new class from an existing one\n",
    "    - Abstraction  - Hiding complex implementation and exposing only necessary features."
   ]
  },
  {
   "cell_type": "markdown",
   "id": "cfda93cd-9394-4e60-9723-52a8f368b68e",
   "metadata": {},
   "source": [
    "### 2. How do you define a class and create an object in Python?"
   ]
  },
  {
   "cell_type": "code",
   "execution_count": 7,
   "id": "c72eabf8-110f-412f-a428-0d8ffe899c65",
   "metadata": {},
   "outputs": [
    {
     "name": "stdout",
     "output_type": "stream",
     "text": [
      "Price for apple:100\n",
      "The type of apple Indian apple\n"
     ]
    }
   ],
   "source": [
    "class apple:\n",
    "    def __init__(self, price):\n",
    "        self.price = price\n",
    "        print (f\"Price for apple:{self.price}\")\n",
    "\n",
    "    def type_of_apple(self, type_1):\n",
    "        self.type_of_apple = type_1\n",
    "        print (f'The type of apple {self.type_of_apple}')\n",
    "\n",
    "my_apple = apple(100)\n",
    "\n",
    "my_apple.type_of_apple(\"Indian apple\")"
   ]
  },
  {
   "cell_type": "markdown",
   "id": "0c34a5e9-e459-46f7-ba51-ff519f21eab1",
   "metadata": {},
   "source": [
    "### 3. What is the difference between __init__() and a regular method?\n",
    "\n",
    "- The __init__() is a constructor method which runs when a class is called and object is created\n",
    "- Regular methods must be called explicitly after object creation."
   ]
  },
  {
   "cell_type": "markdown",
   "id": "72fc098a-ccd0-4f4d-800f-a1df79768df3",
   "metadata": {},
   "source": [
    "### 4. Create a class named BankAccount. Inside it, define an __init__() method that takes two parameters: name and balance, and assigns them to instance variables."
   ]
  },
  {
   "cell_type": "code",
   "execution_count": 8,
   "id": "c5eb7bc6-5f6e-43e0-a50a-18fa4a552b22",
   "metadata": {},
   "outputs": [
    {
     "name": "stdout",
     "output_type": "stream",
     "text": [
      "100 withdrawn. Remaining balance is 900\n",
      "200 deposited. New balance is 1100\n",
      "Current balance: 1100\n"
     ]
    }
   ],
   "source": [
    "class BankAccount():\n",
    "    def __init__(self, name, balance):\n",
    "        self.name = name\n",
    "        self.balance = balance\n",
    "\n",
    "    def deposit(self, amount):\n",
    "        self.balance += amount\n",
    "        print(f\"{amount} deposited. New balance is {self.balance}\")\n",
    "\n",
    "    def withdraw(self,amount):\n",
    "        if amount> self.balance:\n",
    "            print (\"Insufficient balance.\")\n",
    "        else:\n",
    "            self.balance -= amount\n",
    "            print(f\"{amount} withdrawn. Remaining balance is {self.balance}\")\n",
    "\n",
    "    def check_balance(self):\n",
    "        print(f\"Current balance: {self.balance}\")\n",
    "\n",
    "acc1 = BankAccount(\"Alice\",1000)\n",
    "acc1.withdraw(100)\n",
    "acc1.deposit(200)\n",
    "acc1.check_balance()\n",
    "\n",
    "\n",
    "        "
   ]
  },
  {
   "cell_type": "markdown",
   "id": "3f98692f-112b-447f-b42b-2a365432d8d9",
   "metadata": {},
   "source": [
    "### 5. 🎯 Final Goal:\n",
    "- Create a Person base class and a Student subclass that inherits from it. The student should:\n",
    "\n",
    "- Inherit name and age from Person\n",
    "\n",
    "- Add their own student_id\n",
    "\n",
    "- Be able to introduce themselves with all details"
   ]
  },
  {
   "cell_type": "code",
   "execution_count": 22,
   "id": "df9b164e-4fef-4fe2-85c7-86acb0228898",
   "metadata": {},
   "outputs": [
    {
     "name": "stdout",
     "output_type": "stream",
     "text": [
      "My name is John and my age is 21\n",
      "Hi, I'm John, 21 years old, and my student ID is S12345\n"
     ]
    }
   ],
   "source": [
    "class Person:\n",
    "    def __init__(self, name, age):\n",
    "        self.name = name\n",
    "        self.age = age\n",
    "        print (f\"My name is {self.name} and my age is {self.age}\")\n",
    "\n",
    "class student(Person):\n",
    "    def __init__(self, name, age, student_id):\n",
    "        super().__init__(name,age)\n",
    "        self.student_id = student_id\n",
    "\n",
    "    def introduce(self):\n",
    "        print(f\"Hi, I'm {self.name}, {self.age} years old, and my student ID is {self.student_id}\")\n",
    "\n",
    "student1 = student(\"John\", 21, \"S12345\")\n",
    "\n",
    "student1.introduce()"
   ]
  },
  {
   "cell_type": "code",
   "execution_count": null,
   "id": "606206c0-d24d-4479-9789-91de1601b88c",
   "metadata": {},
   "outputs": [],
   "source": []
  }
 ],
 "metadata": {
  "kernelspec": {
   "display_name": "Python 3 (ipykernel)",
   "language": "python",
   "name": "python3"
  },
  "language_info": {
   "codemirror_mode": {
    "name": "ipython",
    "version": 3
   },
   "file_extension": ".py",
   "mimetype": "text/x-python",
   "name": "python",
   "nbconvert_exporter": "python",
   "pygments_lexer": "ipython3",
   "version": "3.12.7"
  }
 },
 "nbformat": 4,
 "nbformat_minor": 5
}
